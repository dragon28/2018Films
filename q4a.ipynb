{
 "cells": [
  {
   "cell_type": "code",
   "execution_count": 1,
   "id": "13518bb9-1464-4358-9d03-4905aeec92c7",
   "metadata": {},
   "outputs": [],
   "source": [
    "import pandas as pd"
   ]
  },
  {
   "cell_type": "code",
   "execution_count": 2,
   "id": "cc968e81-c3c1-4021-b44f-360c126db975",
   "metadata": {},
   "outputs": [
    {
     "name": "stdout",
     "output_type": "stream",
     "text": [
      "      tconst                primaryTitle               originalTitle  year  runtimeMinutes       genres\n",
      "0  tt0069049  The Other Side of the Wind  The Other Side of the Wind  2018             122        Drama\n",
      "1  tt0111414                 A Thin Life                 A Thin Life  2018              75       Comedy\n",
      "2  tt0170651        T.G.M. - osvoboditel        T.G.M. - osvoboditel  2018              60  Documentary\n",
      "3  tt0192528               Heaven & Hell              Reverse Heaven  2018             104        Drama\n",
      "4  tt0253093                Gangavataran                Gangavataran  2018             134           \\N\n"
     ]
    }
   ],
   "source": [
    "# read the title_basics_2018.csv file and load it into Pandas DataFrame\n",
    "df_title_basics_2018 = pd.read_csv('./title_basics_2018.csv')\n",
    "\n",
    "# display the dataframe structure, data and test the title_basics_2018.csv file was loaded correctly\n",
    "print(df_title_basics_2018.head().to_string())"
   ]
  },
  {
   "cell_type": "code",
   "execution_count": 3,
   "id": "cf565199-a57b-4f3b-9aca-caa028b2a3f8",
   "metadata": {},
   "outputs": [
    {
     "name": "stdout",
     "output_type": "stream",
     "text": [
      "      tconst  averageRating  numVotes\n",
      "0  tt0000001            5.6      1543\n",
      "1  tt0000002            6.1       186\n",
      "2  tt0000003            6.5      1201\n",
      "3  tt0000004            6.2       114\n",
      "4  tt0000005            6.1      1921\n"
     ]
    }
   ],
   "source": [
    "# read the title_ratings.csv file and load it into Pandas DataFrame\n",
    "df_title_ratings = pd.read_csv('./title_ratings.csv')\n",
    "\n",
    "# display the dataframe structure, data and test the title_ratings.csv file was loaded correctly\n",
    "print(df_title_ratings.head().to_string())"
   ]
  },
  {
   "cell_type": "code",
   "execution_count": 4,
   "id": "7938df12-683b-49fd-80aa-6af8a26beba7",
   "metadata": {},
   "outputs": [
    {
     "name": "stdout",
     "output_type": "stream",
     "text": [
      "      tconst                primaryTitle                originalTitle  year  runtimeMinutes       genres  averageRating  numVotes\n",
      "0  tt0069049  The Other Side of the Wind   The Other Side of the Wind  2018             122        Drama            6.9      4937\n",
      "1  tt0170651        T.G.M. - osvoboditel         T.G.M. - osvoboditel  2018              60  Documentary            7.5         6\n",
      "2  tt0192528               Heaven & Hell               Reverse Heaven  2018             104        Drama            3.9        74\n",
      "3  tt0253093                Gangavataran                 Gangavataran  2018             134           \\N            6.6         8\n",
      "4  tt0262759    Seven Jews from My Class  Siedmiu Zydów z mojej klasy  2018              40  Documentary            7.0         6\n"
     ]
    }
   ],
   "source": [
    "# merge the df_title_basics_2018 and df_title_ratings on the 'tconst' column, which works as primary key:\n",
    "merged_df_title = pd.merge(df_title_basics_2018, df_title_ratings, on='tconst')\n",
    "\n",
    "# display the dataframe structure, data and test the merger of df_title_basics_2018 and df_title_ratings were correct\n",
    "print(merged_df_title.head().to_string())"
   ]
  },
  {
   "cell_type": "code",
   "execution_count": 5,
   "id": "160c93cd-4674-4054-b23f-abff24bc56ee",
   "metadata": {},
   "outputs": [
    {
     "name": "stdout",
     "output_type": "stream",
     "text": [
      "         year  runtimeMinutes  averageRating       numVotes\n",
      "count  7229.0     7229.000000    7229.000000    7229.000000\n",
      "mean   2018.0       96.271130       6.246217    2588.912989\n",
      "std       0.0       27.400867       1.494149   19831.779889\n",
      "min    2018.0        7.000000       1.000000       5.000000\n",
      "25%    2018.0       83.000000       5.400000      18.000000\n",
      "50%    2018.0       93.000000       6.400000      69.000000\n",
      "75%    2018.0      106.000000       7.300000     346.000000\n",
      "max    2018.0      840.000000      10.000000  719146.000000\n"
     ]
    }
   ],
   "source": [
    "# get the overall statistics of the merged data of df_title_basics_2018 and df_title_ratings\n",
    "print(merged_df_title.describe())"
   ]
  },
  {
   "cell_type": "code",
   "execution_count": 6,
   "id": "84857fd7-b7bf-4a28-939d-c6766d8484f3",
   "metadata": {},
   "outputs": [
    {
     "name": "stdout",
     "output_type": "stream",
     "text": [
      "         year  runtimeMinutes  averageRating       numVotes\n",
      "count  7229.0     7229.000000    7229.000000    7229.000000\n",
      "mean   2018.0       96.271130       6.246217    2588.912989\n",
      "std       0.0       27.400867       1.494149   19831.779889\n",
      "min    2018.0        7.000000       1.000000       5.000000\n",
      "25%    2018.0       83.000000       5.400000      18.000000\n",
      "50%    2018.0       93.000000       6.400000      69.000000\n",
      "75%    2018.0      106.000000       7.300000     346.000000\n",
      "max    2018.0      840.000000      10.000000  719146.000000\n"
     ]
    }
   ],
   "source": [
    "# filter the films by year of 2018 only\n",
    "films_year_2018 = merged_df_title[merged_df_title['year'] == 2018]\n",
    "\n",
    "# check the overall statistics of filtered data\n",
    "print(films_year_2018.describe()) # mean of year is 2018"
   ]
  },
  {
   "cell_type": "code",
   "execution_count": 7,
   "id": "3994e37f-a48f-4318-883e-ce83d44be027",
   "metadata": {},
   "outputs": [
    {
     "name": "stdout",
     "output_type": "stream",
     "text": [
      "       tconst                primaryTitle               originalTitle  year  runtimeMinutes                 genres  averageRating  numVotes\n",
      "0   tt0069049  The Other Side of the Wind  The Other Side of the Wind  2018             122                  Drama            6.9      4937\n",
      "9   tt0360556              Fahrenheit 451              Fahrenheit 451  2018             100  Drama,Sci-Fi,Thriller            4.9     15202\n",
      "10  tt0365545          Nappily Ever After          Nappily Ever After  2018              98   Comedy,Drama,Romance            6.4      6687\n",
      "15  tt0859635            Super Troopers 2            Super Troopers 2  2018              99   Comedy,Crime,Mystery            6.1     21337\n",
      "17  tt0972544                  Back Roads                  Back Roads  2018             101   Crime,Drama,Thriller            7.0      3482\n"
     ]
    }
   ],
   "source": [
    "# first we filter out the films with number of votes that were average and above\n",
    "best_films_2018 = films_year_2018[films_year_2018['numVotes'] >= films_year_2018['numVotes'].mean()]\n",
    "\n",
    "# display the filtered data\n",
    "print(best_films_2018.head().to_string())"
   ]
  },
  {
   "cell_type": "code",
   "execution_count": 8,
   "id": "b941de60-e123-4e8b-84d2-fc924712def4",
   "metadata": {},
   "outputs": [
    {
     "name": "stdout",
     "output_type": "stream",
     "text": [
      "       tconst                primaryTitle               originalTitle  year  runtimeMinutes                  genres  averageRating  numVotes\n",
      "0   tt0069049  The Other Side of the Wind  The Other Side of the Wind  2018             122                   Drama            6.9      4937\n",
      "10  tt0365545          Nappily Ever After          Nappily Ever After  2018              98    Comedy,Drama,Romance            6.4      6687\n",
      "17  tt0972544                  Back Roads                  Back Roads  2018             101    Crime,Drama,Thriller            7.0      3482\n",
      "59  tt1034415                    Suspiria                    Suspiria  2018             152  Fantasy,Horror,Mystery            6.8     45418\n",
      "97  tt1137450                  Death Wish                  Death Wish  2018             107      Action,Crime,Drama            6.4     54054\n"
     ]
    }
   ],
   "source": [
    "# second we filter of the films with rating score that were rating score were average and above\n",
    "best_films_2018 = best_films_2018[best_films_2018['averageRating'] >= best_films_2018['averageRating'].mean()]\n",
    "\n",
    "# display the filtered data\n",
    "print(best_films_2018.head().to_string())"
   ]
  },
  {
   "cell_type": "code",
   "execution_count": 9,
   "id": "e235a087-030d-4efa-8eef-144759e3dbab",
   "metadata": {},
   "outputs": [
    {
     "name": "stdout",
     "output_type": "stream",
     "text": [
      "Average / mean of a film for year 2018: 118.68646864686468\n"
     ]
    }
   ],
   "source": [
    "# get the average run time of the films\n",
    "average_film_run_time = best_films_2018['runtimeMinutes'].mean()\n",
    "\n",
    "# get the overall statistics of the filter data\n",
    "print(\"Average / mean of a film for year 2018: \" + str(average_film_run_time))"
   ]
  },
  {
   "cell_type": "code",
   "execution_count": 10,
   "id": "c9ab472a-e438-4178-86bf-7e5e1fc43123",
   "metadata": {},
   "outputs": [
    {
     "name": "stdout",
     "output_type": "stream",
     "text": [
      "         year  runtimeMinutes  averageRating       numVotes\n",
      "count  1027.0     1027.000000    1027.000000    1027.000000\n",
      "mean   2018.0      138.746835       6.524245    8446.654333\n",
      "std       0.0       41.581107       1.315267   43917.999202\n",
      "min    2018.0      119.000000       1.500000       5.000000\n",
      "25%    2018.0      123.000000       5.800000      36.500000\n",
      "50%    2018.0      132.000000       6.700000     218.000000\n",
      "75%    2018.0      142.500000       7.400000    1183.000000\n",
      "max    2018.0      840.000000       9.500000  719146.000000\n"
     ]
    }
   ],
   "source": [
    "# filter out the films with longer run time that were above or average run time\n",
    "longer_view_time_films = films_year_2018[films_year_2018['runtimeMinutes'] >= average_film_run_time]\n",
    "\n",
    "# get the overall statistics of the filter data\n",
    "print(longer_view_time_films.describe())"
   ]
  },
  {
   "cell_type": "code",
   "execution_count": 11,
   "id": "af05ec19-b574-4169-8265-f065e99d104a",
   "metadata": {},
   "outputs": [
    {
     "name": "stdout",
     "output_type": "stream",
     "text": [
      "         year  runtimeMinutes  averageRating       numVotes\n",
      "count  6202.0     6202.000000    6202.000000    6202.000000\n",
      "mean   2018.0       89.237504       6.200177    1618.919381\n",
      "std       0.0       15.517578       1.516928   11518.721608\n",
      "min    2018.0        7.000000       1.000000       5.000000\n",
      "25%    2018.0       81.000000       5.300000      16.000000\n",
      "50%    2018.0       90.000000       6.400000      59.000000\n",
      "75%    2018.0      100.000000       7.300000     282.000000\n",
      "max    2018.0      118.000000      10.000000  329157.000000\n"
     ]
    }
   ],
   "source": [
    "# filter out the films with shorter run time that were below the average run time\n",
    "shorter_view_time_films = films_year_2018[films_year_2018['runtimeMinutes'] < average_film_run_time]\n",
    "\n",
    "# get the overall statistics of the filter data\n",
    "print(shorter_view_time_films .describe())"
   ]
  },
  {
   "cell_type": "code",
   "execution_count": 12,
   "id": "c2151709-d27d-4f25-bd9a-404fecdb4fff",
   "metadata": {},
   "outputs": [
    {
     "name": "stdout",
     "output_type": "stream",
     "text": [
      "Average rating score score of longer run or view time films: 6.5242\n"
     ]
    }
   ],
   "source": [
    "print(\"Average rating score score of longer run or view time films: \" + str(round(longer_view_time_films['averageRating'].mean(),4)))"
   ]
  },
  {
   "cell_type": "code",
   "execution_count": 13,
   "id": "db173761-c838-4f1a-9762-e5edd1f7febc",
   "metadata": {},
   "outputs": [
    {
     "name": "stdout",
     "output_type": "stream",
     "text": [
      "Average rating score score of shorter run or view time films: 6.2002\n"
     ]
    }
   ],
   "source": [
    "print(\"Average rating score score of shorter run or view time films: \" + str(round(shorter_view_time_films['averageRating'].mean(),4)))"
   ]
  },
  {
   "cell_type": "code",
   "execution_count": 14,
   "id": "5960d701-7392-470b-bd94-7d3338fc6bf2",
   "metadata": {},
   "outputs": [
    {
     "name": "stdout",
     "output_type": "stream",
     "text": [
      "Audiences in year 2018 prefer film with longer run view time\n"
     ]
    }
   ],
   "source": [
    "# compare the average rating score of longer run view time films and shorter run view time films\n",
    "if longer_view_time_films['averageRating'].mean() > shorter_view_time_films['averageRating'].mean():\n",
    "    print(\"Audiences in year 2018 prefer film with longer run view time\")\n",
    "else:\n",
    "    print(\"Audiences in year 2018 prefer film with shorter run view time\")\n"
   ]
  }
 ],
 "metadata": {
  "kernelspec": {
   "display_name": "Python 3 (ipykernel)",
   "language": "python",
   "name": "python3"
  },
  "language_info": {
   "codemirror_mode": {
    "name": "ipython",
    "version": 3
   },
   "file_extension": ".py",
   "mimetype": "text/x-python",
   "name": "python",
   "nbconvert_exporter": "python",
   "pygments_lexer": "ipython3",
   "version": "3.10.13"
  }
 },
 "nbformat": 4,
 "nbformat_minor": 5
}
