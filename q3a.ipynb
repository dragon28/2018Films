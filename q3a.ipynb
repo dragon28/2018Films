{
 "cells": [
  {
   "cell_type": "code",
   "execution_count": 1,
   "id": "13518bb9-1464-4358-9d03-4905aeec92c7",
   "metadata": {},
   "outputs": [],
   "source": [
    "import pandas as pd"
   ]
  },
  {
   "cell_type": "code",
   "execution_count": 2,
   "id": "cc968e81-c3c1-4021-b44f-360c126db975",
   "metadata": {},
   "outputs": [
    {
     "name": "stdout",
     "output_type": "stream",
     "text": [
      "      tconst                primaryTitle               originalTitle  year  runtimeMinutes       genres\n",
      "0  tt0069049  The Other Side of the Wind  The Other Side of the Wind  2018             122        Drama\n",
      "1  tt0111414                 A Thin Life                 A Thin Life  2018              75       Comedy\n",
      "2  tt0170651        T.G.M. - osvoboditel        T.G.M. - osvoboditel  2018              60  Documentary\n",
      "3  tt0192528               Heaven & Hell              Reverse Heaven  2018             104        Drama\n",
      "4  tt0253093                Gangavataran                Gangavataran  2018             134           \\N\n"
     ]
    }
   ],
   "source": [
    "# read the title_basics_2018.csv file and load it into Pandas DataFrame\n",
    "df_title_basics_2018 = pd.read_csv('./title_basics_2018.csv')\n",
    "\n",
    "# display the dataframe structure, data and test the title_basics_2018.csv file was loaded correctly\n",
    "print(df_title_basics_2018.head().to_string())"
   ]
  },
  {
   "cell_type": "code",
   "execution_count": 3,
   "id": "cf565199-a57b-4f3b-9aca-caa028b2a3f8",
   "metadata": {},
   "outputs": [
    {
     "name": "stdout",
     "output_type": "stream",
     "text": [
      "      tconst  averageRating  numVotes\n",
      "0  tt0000001            5.6      1543\n",
      "1  tt0000002            6.1       186\n",
      "2  tt0000003            6.5      1201\n",
      "3  tt0000004            6.2       114\n",
      "4  tt0000005            6.1      1921\n"
     ]
    }
   ],
   "source": [
    "# read the title_ratings.csv file and load it into Pandas DataFrame\n",
    "df_title_ratings = pd.read_csv('./title_ratings.csv')\n",
    "\n",
    "# display the dataframe structure, data and test the title_ratings.csv file was loaded correctly\n",
    "print(df_title_ratings.head().to_string())"
   ]
  },
  {
   "cell_type": "code",
   "execution_count": 4,
   "id": "7938df12-683b-49fd-80aa-6af8a26beba7",
   "metadata": {},
   "outputs": [
    {
     "name": "stdout",
     "output_type": "stream",
     "text": [
      "      tconst                primaryTitle                originalTitle  year  runtimeMinutes       genres  averageRating  numVotes\n",
      "0  tt0069049  The Other Side of the Wind   The Other Side of the Wind  2018             122        Drama            6.9      4937\n",
      "1  tt0170651        T.G.M. - osvoboditel         T.G.M. - osvoboditel  2018              60  Documentary            7.5         6\n",
      "2  tt0192528               Heaven & Hell               Reverse Heaven  2018             104        Drama            3.9        74\n",
      "3  tt0253093                Gangavataran                 Gangavataran  2018             134           \\N            6.6         8\n",
      "4  tt0262759    Seven Jews from My Class  Siedmiu Zydów z mojej klasy  2018              40  Documentary            7.0         6\n"
     ]
    }
   ],
   "source": [
    "# merge the df_title_basics_2018 and df_title_ratings on the 'tconst' column, which works as primary key:\n",
    "merged_df_title = pd.merge(df_title_basics_2018, df_title_ratings, on='tconst')\n",
    "\n",
    "# display the dataframe structure and test the merger of df_title_basics_2018 and df_title_ratings were correct\n",
    "print(merged_df_title.head().to_string())"
   ]
  },
  {
   "cell_type": "code",
   "execution_count": 5,
   "id": "160c93cd-4674-4054-b23f-abff24bc56ee",
   "metadata": {},
   "outputs": [
    {
     "name": "stdout",
     "output_type": "stream",
     "text": [
      "         year  runtimeMinutes  averageRating       numVotes\n",
      "count  7229.0     7229.000000    7229.000000    7229.000000\n",
      "mean   2018.0       96.271130       6.246217    2588.912989\n",
      "std       0.0       27.400867       1.494149   19831.779889\n",
      "min    2018.0        7.000000       1.000000       5.000000\n",
      "25%    2018.0       83.000000       5.400000      18.000000\n",
      "50%    2018.0       93.000000       6.400000      69.000000\n",
      "75%    2018.0      106.000000       7.300000     346.000000\n",
      "max    2018.0      840.000000      10.000000  719146.000000\n"
     ]
    }
   ],
   "source": [
    "# filter the films by year of 2018 only\n",
    "films_year_2018 = merged_df_title[merged_df_title['year'] == 2018]\n",
    "\n",
    "# check the overall statistics of filtered data\n",
    "print(films_year_2018.describe()) # mean of year is 2018"
   ]
  },
  {
   "cell_type": "code",
   "execution_count": 6,
   "id": "e235a087-030d-4efa-8eef-144759e3dbab",
   "metadata": {},
   "outputs": [
    {
     "name": "stdout",
     "output_type": "stream",
     "text": [
      "       tconst                primaryTitle               originalTitle  year  runtimeMinutes                 genres  averageRating  numVotes\n",
      "0   tt0069049  The Other Side of the Wind  The Other Side of the Wind  2018             122                  Drama            6.9      4937\n",
      "9   tt0360556              Fahrenheit 451              Fahrenheit 451  2018             100  Drama,Sci-Fi,Thriller            4.9     15202\n",
      "10  tt0365545          Nappily Ever After          Nappily Ever After  2018              98   Comedy,Drama,Romance            6.4      6687\n",
      "15  tt0859635            Super Troopers 2            Super Troopers 2  2018              99   Comedy,Crime,Mystery            6.1     21337\n",
      "17  tt0972544                  Back Roads                  Back Roads  2018             101   Crime,Drama,Thriller            7.0      3482\n"
     ]
    }
   ],
   "source": [
    "# first we filter out the films that contain the largest number of votes, which 25% of the most voted or top 25% most voted films\n",
    "best_films_2018 = films_year_2018[films_year_2018['numVotes'] >= films_year_2018['numVotes'].nlargest(int(films_year_2018['tconst'].count() * 0.25)).min()]\n",
    "\n",
    "# display the filtered data\n",
    "print(best_films_2018.head().to_string())"
   ]
  },
  {
   "cell_type": "code",
   "execution_count": 7,
   "id": "c9ab472a-e438-4178-86bf-7e5e1fc43123",
   "metadata": {},
   "outputs": [
    {
     "name": "stdout",
     "output_type": "stream",
     "text": [
      "        tconst                                       primaryTitle                                      originalTitle  year  runtimeMinutes                   genres  averageRating  numVotes\n",
      "17   tt0972544                                         Back Roads                                         Back Roads  2018             101     Crime,Drama,Thriller            7.0      3482\n",
      "98   tt1213641                                          First Man                                          First Man  2018             141  Biography,Drama,History            7.3    137147\n",
      "99   tt1226837                                      Beautiful Boy                                      Beautiful Boy  2018             120          Biography,Drama            7.3     36270\n",
      "102  tt1259528                                     Den of Thieves                                     Den of Thieves  2018             140       Action,Crime,Drama            7.0     74360\n",
      "106  tt1289403  The Guernsey Literary and Potato Peel Pie Society  The Guernsey Literary and Potato Peel Pie Society  2018             124    Drama,History,Romance            7.4     25163\n"
     ]
    }
   ],
   "source": [
    "# second we filter of the films that contain the highes rating score, which 25% of most rated or top 25% most rated films\n",
    "best_film_2018 = best_films_2018[best_films_2018['averageRating'] >= best_films_2018['averageRating'].nlargest(int(best_films_2018['tconst'].count() * 0.25)).min()]\n",
    "\n",
    "# display the filtered data\n",
    "print(best_film_2018.head().to_string())"
   ]
  },
  {
   "cell_type": "code",
   "execution_count": 8,
   "id": "af4d9f4d-8c0f-44c1-824e-25a752f753bc",
   "metadata": {},
   "outputs": [
    {
     "name": "stdout",
     "output_type": "stream",
     "text": [
      "        tconst            primaryTitle           originalTitle  year  runtimeMinutes                   genres  averageRating  numVotes\n",
      "556  tt4154756  Avengers: Infinity War  Avengers: Infinity War  2018             149  Action,Adventure,Sci-Fi            8.5    719146\n"
     ]
    }
   ],
   "source": [
    "# and finally we filter by the most voted films\n",
    "best_film_2018 = best_film_2018[best_film_2018['numVotes'] >= best_film_2018['numVotes'].max()]\n",
    "\n",
    "# display the filtered data\n",
    "print(best_film_2018.to_string()) # Avengers: Infinity War"
   ]
  }
 ],
 "metadata": {
  "kernelspec": {
   "display_name": "Python 3 (ipykernel)",
   "language": "python",
   "name": "python3"
  },
  "language_info": {
   "codemirror_mode": {
    "name": "ipython",
    "version": 3
   },
   "file_extension": ".py",
   "mimetype": "text/x-python",
   "name": "python",
   "nbconvert_exporter": "python",
   "pygments_lexer": "ipython3",
   "version": "3.10.13"
  }
 },
 "nbformat": 4,
 "nbformat_minor": 5
}
