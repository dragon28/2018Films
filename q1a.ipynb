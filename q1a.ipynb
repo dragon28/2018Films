{
 "cells": [
  {
   "cell_type": "code",
   "execution_count": 1,
   "id": "4fb41069-5cfc-427d-ac59-4cea220814db",
   "metadata": {},
   "outputs": [],
   "source": [
    "import pandas as  pd\n",
    "import re"
   ]
  },
  {
   "cell_type": "code",
   "execution_count": 2,
   "id": "faff75f3-d117-4236-acc2-1412a1cf2646",
   "metadata": {},
   "outputs": [
    {
     "name": "stdout",
     "output_type": "stream",
     "text": [
      "      tconst                primaryTitle                originalTitle  year  runtimeMinutes        genres\n",
      "0  tt0069049  The Other Side of the Wind   The Other Side of the Wind  2018             122         Drama\n",
      "1  tt0111414                 A Thin Life                  A Thin Life  2018              75        Comedy\n",
      "2  tt0170651        T.G.M. - osvoboditel         T.G.M. - osvoboditel  2018              60   Documentary\n",
      "3  tt0192528               Heaven & Hell               Reverse Heaven  2018             104         Drama\n",
      "4  tt0253093                Gangavataran                 Gangavataran  2018             134            \\N\n",
      "5  tt0262759    Seven Jews from My Class  Siedmiu Zydów z mojej klasy  2018              40   Documentary\n",
      "6  tt0276568          To Chase a Million           To Chase a Million  2018              97  Action,Drama\n",
      "7  tt0328810                     My Land                Aamaar Bhuvan  2018             102  Drama,Family\n"
     ]
    }
   ],
   "source": [
    "# read the title_basics_2018.csv file and load it into Pandas DataFrame\n",
    "df_title_basics_2018 = pd.read_csv('./title_basics_2018.csv')\n",
    "\n",
    "# display the dataframe structure, data and test the title_basics_2018.csv file was loaded correctly\n",
    "print(df_title_basics_2018.head(8).to_string())"
   ]
  },
  {
   "cell_type": "code",
   "execution_count": 3,
   "id": "e25a1d1f-e7c3-4669-9d70-a4a90ae2761f",
   "metadata": {},
   "outputs": [
    {
     "name": "stdout",
     "output_type": "stream",
     "text": [
      "          year  runtimeMinutes\n",
      "count  12815.0    12815.000000\n",
      "mean    2018.0       87.887163\n",
      "std        0.0       33.998296\n",
      "min     2018.0        1.000000\n",
      "25%     2018.0       73.000000\n",
      "50%     2018.0       89.000000\n",
      "75%     2018.0      101.000000\n",
      "max     2018.0     1320.000000\n"
     ]
    }
   ],
   "source": [
    "# filter the films by year of 2018 only\n",
    "films_year_2018 = df_title_basics_2018[df_title_basics_2018['year'] == 2018]\n",
    "\n",
    "# check the overall statistics of filtered data\n",
    "print(films_year_2018.describe()) # mean of year is 2018"
   ]
  },
  {
   "cell_type": "code",
   "execution_count": 4,
   "id": "c8023cfb-e6ff-4a49-b869-3cfa434135e8",
   "metadata": {},
   "outputs": [],
   "source": [
    "# filter out the category of the films in the 'genres' column that were 'Comedy'\n",
    "#comedy = films_year_2018[films_year_2018['genres'] == 'Comedy']\n",
    "\n",
    "# get the total number of films that categorized as 'Comedy'\n",
    "#print(comedy['genres'].count()) # 800"
   ]
  },
  {
   "cell_type": "code",
   "execution_count": 5,
   "id": "1ab6af7d-be48-48a8-8759-0991225a9bf6",
   "metadata": {},
   "outputs": [
    {
     "name": "stdout",
     "output_type": "stream",
     "text": [
      "Total number of films that categorized as 'Comedy': 2233\n"
     ]
    }
   ],
   "source": [
    "# filter out the category of the films in the 'genres' column that contain the word 'Comedy'\n",
    "comedy = films_year_2018[films_year_2018['genres'].str.contains(pat=\"Comedy|comedy\",flags=re.IGNORECASE) == True]\n",
    "\n",
    "# get the total number of films that categorized as 'Comedy'\n",
    "print(\"Total number of films that categorized as 'Comedy': \" + str(comedy['genres'].count())) # 2233"
   ]
  }
 ],
 "metadata": {
  "kernelspec": {
   "display_name": "Python 3 (ipykernel)",
   "language": "python",
   "name": "python3"
  },
  "language_info": {
   "codemirror_mode": {
    "name": "ipython",
    "version": 3
   },
   "file_extension": ".py",
   "mimetype": "text/x-python",
   "name": "python",
   "nbconvert_exporter": "python",
   "pygments_lexer": "ipython3",
   "version": "3.10.13"
  }
 },
 "nbformat": 4,
 "nbformat_minor": 5
}
