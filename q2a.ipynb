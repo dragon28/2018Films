{
 "cells": [
  {
   "cell_type": "code",
   "execution_count": 1,
   "id": "13518bb9-1464-4358-9d03-4905aeec92c7",
   "metadata": {},
   "outputs": [],
   "source": [
    "import pandas as pd"
   ]
  },
  {
   "cell_type": "code",
   "execution_count": 2,
   "id": "cc968e81-c3c1-4021-b44f-360c126db975",
   "metadata": {},
   "outputs": [
    {
     "name": "stdout",
     "output_type": "stream",
     "text": [
      "      tconst                primaryTitle               originalTitle  year  runtimeMinutes       genres\n",
      "0  tt0069049  The Other Side of the Wind  The Other Side of the Wind  2018             122        Drama\n",
      "1  tt0111414                 A Thin Life                 A Thin Life  2018              75       Comedy\n",
      "2  tt0170651        T.G.M. - osvoboditel        T.G.M. - osvoboditel  2018              60  Documentary\n",
      "3  tt0192528               Heaven & Hell              Reverse Heaven  2018             104        Drama\n",
      "4  tt0253093                Gangavataran                Gangavataran  2018             134           \\N\n"
     ]
    }
   ],
   "source": [
    "# read the title_basics_2018.csv file and load it into Pandas DataFrame\n",
    "df_title_basics_2018 = pd.read_csv('./title_basics_2018.csv')\n",
    "\n",
    "# print or display the dataframe structure and test the title_basics_2018.csv file was loaded correctly\n",
    "print(df_title_basics_2018.head().to_string())"
   ]
  },
  {
   "cell_type": "code",
   "execution_count": 3,
   "id": "cf565199-a57b-4f3b-9aca-caa028b2a3f8",
   "metadata": {},
   "outputs": [
    {
     "name": "stdout",
     "output_type": "stream",
     "text": [
      "      tconst  averageRating  numVotes\n",
      "0  tt0000001            5.6      1543\n",
      "1  tt0000002            6.1       186\n",
      "2  tt0000003            6.5      1201\n",
      "3  tt0000004            6.2       114\n",
      "4  tt0000005            6.1      1921\n"
     ]
    }
   ],
   "source": [
    "# read the title_ratings.csv file and load it into Pandas DataFrame\n",
    "df_title_ratings = pd.read_csv('./title_ratings.csv')\n",
    "\n",
    "# print or display the dataframe structure and test the title_ratings.csv file was loaded correctly\n",
    "print(df_title_ratings.head().to_string())"
   ]
  },
  {
   "cell_type": "code",
   "execution_count": 4,
   "id": "7938df12-683b-49fd-80aa-6af8a26beba7",
   "metadata": {},
   "outputs": [
    {
     "name": "stdout",
     "output_type": "stream",
     "text": [
      "      tconst                primaryTitle                originalTitle  year  runtimeMinutes       genres  averageRating  numVotes\n",
      "0  tt0069049  The Other Side of the Wind   The Other Side of the Wind  2018             122        Drama            6.9      4937\n",
      "1  tt0170651        T.G.M. - osvoboditel         T.G.M. - osvoboditel  2018              60  Documentary            7.5         6\n",
      "2  tt0192528               Heaven & Hell               Reverse Heaven  2018             104        Drama            3.9        74\n",
      "3  tt0253093                Gangavataran                 Gangavataran  2018             134           \\N            6.6         8\n",
      "4  tt0262759    Seven Jews from My Class  Siedmiu Zydów z mojej klasy  2018              40  Documentary            7.0         6\n"
     ]
    }
   ],
   "source": [
    "# merge the df_title_basics_2018 and df_title_ratings based on the 'tconst' column, which works as primary key\n",
    "merged_df_title = pd.merge(df_title_basics_2018, df_title_ratings, on='tconst')\n",
    "\n",
    "# display the dataframe structure, data and check the overall merger of df_title_basics and df_title_ratings \n",
    "print(merged_df_title.head().to_string())"
   ]
  },
  {
   "cell_type": "code",
   "execution_count": 5,
   "id": "9146a7fc-4284-4271-a71b-e00d6ce7d5f6",
   "metadata": {},
   "outputs": [
    {
     "name": "stdout",
     "output_type": "stream",
     "text": [
      "         year  runtimeMinutes  averageRating       numVotes\n",
      "count  7229.0     7229.000000    7229.000000    7229.000000\n",
      "mean   2018.0       96.271130       6.246217    2588.912989\n",
      "std       0.0       27.400867       1.494149   19831.779889\n",
      "min    2018.0        7.000000       1.000000       5.000000\n",
      "25%    2018.0       83.000000       5.400000      18.000000\n",
      "50%    2018.0       93.000000       6.400000      69.000000\n",
      "75%    2018.0      106.000000       7.300000     346.000000\n",
      "max    2018.0      840.000000      10.000000  719146.000000\n"
     ]
    }
   ],
   "source": [
    "# filter the films by year of 2018 only\n",
    "films_year_2018 = merged_df_title[merged_df_title['year'] == 2018]\n",
    "\n",
    "# check the overall statistics of filtered data\n",
    "print(films_year_2018.describe()) # mean of year is 2018"
   ]
  },
  {
   "cell_type": "code",
   "execution_count": 6,
   "id": "160c93cd-4674-4054-b23f-abff24bc56ee",
   "metadata": {},
   "outputs": [
    {
     "name": "stdout",
     "output_type": "stream",
     "text": [
      "         year  runtimeMinutes  averageRating       numVotes\n",
      "count   780.0      780.000000     780.000000     780.000000\n",
      "mean   2018.0       93.455128       8.478590    2753.816667\n",
      "std       0.0       37.425174       0.414829   32233.269853\n",
      "min    2018.0       13.000000       8.000000       5.000000\n",
      "25%    2018.0       75.000000       8.100000      10.000000\n",
      "50%    2018.0       90.000000       8.400000      23.000000\n",
      "75%    2018.0      104.250000       8.800000      71.250000\n",
      "max    2018.0      601.000000      10.000000  719146.000000\n"
     ]
    }
   ],
   "source": [
    "# filter out the rating score with 8 or higher from the 'averageRating' column of the merged dataframe \n",
    "films_scored_8_or_higer = films_year_2018[films_year_2018['averageRating'] >= 8.0]\n",
    "\n",
    "# check the overall statistics of filtered data \n",
    "print(films_scored_8_or_higer.describe()) # averageRating min = 8.0 and count = 780"
   ]
  },
  {
   "cell_type": "code",
   "execution_count": 7,
   "id": "e235a087-030d-4efa-8eef-144759e3dbab",
   "metadata": {},
   "outputs": [
    {
     "name": "stdout",
     "output_type": "stream",
     "text": [
      "Total Number of fils with a score of 8.0 or higer: 780\n"
     ]
    }
   ],
   "source": [
    "# get the total number of films with a score of 8.0 or higher\n",
    "print(\"Total Number of fils with a score of 8.0 or higer: \" + str(films_scored_8_or_higer['averageRating'].count())) # 780"
   ]
  }
 ],
 "metadata": {
  "kernelspec": {
   "display_name": "Python 3 (ipykernel)",
   "language": "python",
   "name": "python3"
  },
  "language_info": {
   "codemirror_mode": {
    "name": "ipython",
    "version": 3
   },
   "file_extension": ".py",
   "mimetype": "text/x-python",
   "name": "python",
   "nbconvert_exporter": "python",
   "pygments_lexer": "ipython3",
   "version": "3.10.13"
  }
 },
 "nbformat": 4,
 "nbformat_minor": 5
}
